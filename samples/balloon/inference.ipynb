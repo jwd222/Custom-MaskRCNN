{
 "cells": [
  {
   "cell_type": "markdown",
   "metadata": {},
   "source": [
    "Notebook to review the trained model running in inference mode."
   ]
  },
  {
   "cell_type": "code",
   "execution_count": 1,
   "metadata": {},
   "outputs": [
    {
     "name": "stdout",
     "output_type": "stream",
     "text": [
      "List physical GPU devices:\n",
      "    PhysicalDevice(name='/physical_device:GPU:0', device_type='GPU')\n"
     ]
    }
   ],
   "source": [
    "import os\n",
    "import sys\n",
    "import time\n",
    "import numpy as np\n",
    "import tensorflow as tf\n",
    "\n",
    "# Root directory of the project\n",
    "ROOT_DIR = os.path.abspath(\"../../\")\n",
    "sys.path.append(ROOT_DIR)\n",
    "\n",
    "import balloon\n",
    "from mrcnn.config import Config\n",
    "from mrcnn import utils\n",
    "from mrcnn import visualize\n",
    "from mrcnn.visualize import display_images\n",
    "import mrcnn.model as modellib\n",
    "from mrcnn.model import log\n",
    "\n",
    "# show visible GPU devices and limit the memory growth\n",
    "print('List physical GPU devices:')\n",
    "gpu_devices = tf.config.list_physical_devices('GPU')\n",
    "for gpu in gpu_devices: \n",
    "    print(' '*3, gpu)\n",
    "    try:\n",
    "        tf.config.experimental.set_memory_growth(gpu, True)\n",
    "    except RuntimeError as error:\n",
    "        print(error)"
   ]
  },
  {
   "cell_type": "markdown",
   "metadata": {},
   "source": [
    "## Define trained configurations\n",
    "TODO: load from stored config file"
   ]
  },
  {
   "cell_type": "code",
   "execution_count": 2,
   "metadata": {},
   "outputs": [],
   "source": [
    "class InferenceConfig(Config):\n",
    "    NAME = \"balloon\"\n",
    "    NUM_CLASSES = 1 + 1  # Background + balloon\n",
    "    GPU_COUNT = 1\n",
    "    IMAGES_PER_GPU = 1\n",
    "    USE_MINI_MASK = False\n",
    "    RUN_EAGERLY = False\n",
    "\n",
    "config = InferenceConfig()"
   ]
  },
  {
   "cell_type": "markdown",
   "metadata": {},
   "source": [
    "## Load Validation Dataset"
   ]
  },
  {
   "cell_type": "code",
   "execution_count": 4,
   "metadata": {},
   "outputs": [
    {
     "name": "stdout",
     "output_type": "stream",
     "text": [
      "Images: 13\n",
      "Classes: ['BG', 'balloon']\n"
     ]
    }
   ],
   "source": [
    "# Load validation dataset\n",
    "val_path = os.path.join(ROOT_DIR, \"data\", \"balloon_dataset\", \"balloon\")\n",
    "dataset = balloon.BalloonDataset()\n",
    "dataset.load_balloon(val_path, \"val\")\n",
    "\n",
    "# Must call before using the dataset\n",
    "dataset.prepare()\n",
    "print(\"Images: {}\\nClasses: {}\".format(len(dataset.image_ids), dataset.class_names))"
   ]
  },
  {
   "cell_type": "markdown",
   "metadata": {},
   "source": [
    "## Load Model"
   ]
  },
  {
   "cell_type": "code",
   "execution_count": null,
   "metadata": {
    "scrolled": false
   },
   "outputs": [],
   "source": [
    "# weights_path = os.path.join(ROOT_DIR, \"model_logs\", \"balloon20221110T1256\", \"mask_rcnn_balloon_0012.h5\")\n",
    "weights_path = r\"D:\\projects\\Building_sensing\\building_construction_year\\Mask_RCNN_TF_2.10\\weights\\others\\mask_rcnn_balloon.h5\"\n",
    "\n",
    "# create inference model\n",
    "model = modellib.MaskRCNN(\n",
    "    mode=\"inference\",\n",
    "    model_dir=\"D:\\projects\\Building_sensing\\building_construction_year\\Mask_RCNN_TF_2.10\\logs\",\n",
    "    config=config,\n",
    ")\n",
    "\n",
    "print(\"Loading weights:\", weights_path)\n",
    "\n",
    "model.load_weights(weights_path, by_name=True)\n",
    "\n",
    "model.keras_model.compile(run_eagerly=config.RUN_EAGERLY)"
   ]
  },
  {
   "cell_type": "markdown",
   "metadata": {},
   "source": [
    "## Run Detection"
   ]
  },
  {
   "cell_type": "code",
   "execution_count": null,
   "metadata": {
    "scrolled": false
   },
   "outputs": [],
   "source": [
    "for image_id in dataset.image_ids:\n",
    "    # image_id = np.random.choice(dataset.image_ids)\n",
    "    print(f\"Processing image_id:{image_id}\")\n",
    "\n",
    "    image, image_meta, gt_class_id, gt_bbox, gt_masks =\\\n",
    "        modellib.load_image_gt(dataset, config, image_id)\n",
    "    info = dataset.image_info[image_id]\n",
    "\n",
    "    results = model.detect([image], verbose=1)\n",
    "    r = results[0]\n",
    "    visualize.display_instances(image, r['rois'], r['masks'], r['class_ids'], dataset.class_names, r['scores'],\n",
    "                                title=\"Predictions\", figsize=(7,7))"
   ]
  }
 ],
 "metadata": {
  "kernelspec": {
   "display_name": "Python 3",
   "language": "python",
   "name": "python3"
  },
  "language_info": {
   "codemirror_mode": {
    "name": "ipython",
    "version": 3
   },
   "file_extension": ".py",
   "mimetype": "text/x-python",
   "name": "python",
   "nbconvert_exporter": "python",
   "pygments_lexer": "ipython3",
   "version": "3.9.18"
  },
  "vscode": {
   "interpreter": {
    "hash": "31f2aee4e71d21fbe5cf8b01ff0e069b9275f58929596ceb00d14d90e3e16cd6"
   }
  }
 },
 "nbformat": 4,
 "nbformat_minor": 2
}
